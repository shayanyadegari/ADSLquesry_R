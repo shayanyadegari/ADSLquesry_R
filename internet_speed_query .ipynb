{
 "cells": [
  {
   "cell_type": "code",
   "execution_count": null,
   "id": "a6cd2ce6",
   "metadata": {},
   "outputs": [],
   "source": [
    "\n",
    "\n",
    "#to show data cleaning, join tools, data search and requare order from below\n",
    "\n",
    "#tasks in this script code\n",
    "#the structure person_id, city, type_of_broadband_connection, name_of_isp, average_download_speed, average_upload_speed\n",
    "#has 1 line per person (i.e. calculate a single average download and upload speed for each person)\n",
    "#only contains people in the cities 'Samsville' and 'Databury'\n",
    "#only contains download and upload measurements which have run successfully (i.e. put a filter on did_test_complete_successfully)\n",
    "#only contains tests from the month of January 2021 (i.e. put a filter on time_of_measurement)."
   ]
  },
  {
   "cell_type": "code",
   "execution_count": 2,
   "id": "19613318",
   "metadata": {},
   "outputs": [],
   "source": [
    "\n",
    "#data import\n",
    "Dspeed_measure <- read.csv(\"download_speed_measurements.csv\")\n",
    "Uspeed_measure <- read.csv(\"upload_speed_measurements.csv\")\n",
    "person_details <- read.csv(\"details_for_each_person.csv\")\n"
   ]
  },
  {
   "cell_type": "code",
   "execution_count": 3,
   "id": "f0b176f0",
   "metadata": {},
   "outputs": [
    {
     "name": "stderr",
     "output_type": "stream",
     "text": [
      "\n",
      "Attaching package: 'dplyr'\n",
      "\n",
      "The following objects are masked from 'package:data.table':\n",
      "\n",
      "    between, first, last\n",
      "\n",
      "The following objects are masked from 'package:stats':\n",
      "\n",
      "    filter, lag\n",
      "\n",
      "The following objects are masked from 'package:base':\n",
      "\n",
      "    intersect, setdiff, setequal, union\n",
      "\n"
     ]
    }
   ],
   "source": [
    "\n",
    "#some measured speed data was 0 I assume that it means some disconnectivity and the network does not work in this time and I did not delete these data\n",
    "\n",
    "library(data.table)\n",
    "library(dplyr)\n",
    "#only contains download and upload measurements which have run successfully (i.e. put a filter on did_test_complete_successfully)\n",
    "Dspeed_measure <- data.table(na.omit(Dspeed_measure))\n",
    "Uspeed_measure <- data.table(na.omit(Uspeed_measure))"
   ]
  },
  {
   "cell_type": "code",
   "execution_count": 4,
   "id": "c5ec6675",
   "metadata": {},
   "outputs": [],
   "source": [
    "# we only need year & month & day\n",
    "\n",
    "library(data.table)\n",
    "replace <- as.character(Dspeed_measure$time_of_measurement)\n",
    "replace <- sub(\"T.*\", \"\", replace)\n",
    "Dspeed_measure[,\"time_of_measurement\"] <- replace\n",
    "Dspeed_measure <- setDT(Dspeed_measure)[time_of_measurement %between% c('2021-01-01', '2021-01-31')]"
   ]
  },
  {
   "cell_type": "code",
   "execution_count": 10,
   "id": "6e2cce6d",
   "metadata": {},
   "outputs": [
    {
     "data": {
      "text/html": [
       "<table>\n",
       "<thead><tr><th scope=col>person_id</th><th scope=col>time_of_measurement</th><th scope=col>measured_download_speed_in_Mbps</th><th scope=col>did_test_complete_successfully</th></tr></thead>\n",
       "<tbody>\n",
       "\t<tr><td>50868     </td><td>2021-01-01</td><td>10.635198 </td><td>TRUE      </td></tr>\n",
       "\t<tr><td>50868     </td><td>2021-01-19</td><td> 0.000000 </td><td>TRUE      </td></tr>\n",
       "\t<tr><td>50868     </td><td>2021-01-02</td><td> 0.000000 </td><td>TRUE      </td></tr>\n",
       "\t<tr><td>50868     </td><td>2021-01-02</td><td> 0.000000 </td><td>TRUE      </td></tr>\n",
       "\t<tr><td>50868     </td><td>2021-01-06</td><td>15.634309 </td><td>TRUE      </td></tr>\n",
       "\t<tr><td>50868     </td><td>2021-01-17</td><td> 6.594722 </td><td>TRUE      </td></tr>\n",
       "</tbody>\n",
       "</table>\n"
      ],
      "text/latex": [
       "\\begin{tabular}{r|llll}\n",
       " person\\_id & time\\_of\\_measurement & measured\\_download\\_speed\\_in\\_Mbps & did\\_test\\_complete\\_successfully\\\\\n",
       "\\hline\n",
       "\t 50868      & 2021-01-01 & 10.635198  & TRUE      \\\\\n",
       "\t 50868      & 2021-01-19 &  0.000000  & TRUE      \\\\\n",
       "\t 50868      & 2021-01-02 &  0.000000  & TRUE      \\\\\n",
       "\t 50868      & 2021-01-02 &  0.000000  & TRUE      \\\\\n",
       "\t 50868      & 2021-01-06 & 15.634309  & TRUE      \\\\\n",
       "\t 50868      & 2021-01-17 &  6.594722  & TRUE      \\\\\n",
       "\\end{tabular}\n"
      ],
      "text/markdown": [
       "\n",
       "| person_id | time_of_measurement | measured_download_speed_in_Mbps | did_test_complete_successfully |\n",
       "|---|---|---|---|\n",
       "| 50868      | 2021-01-01 | 10.635198  | TRUE       |\n",
       "| 50868      | 2021-01-19 |  0.000000  | TRUE       |\n",
       "| 50868      | 2021-01-02 |  0.000000  | TRUE       |\n",
       "| 50868      | 2021-01-02 |  0.000000  | TRUE       |\n",
       "| 50868      | 2021-01-06 | 15.634309  | TRUE       |\n",
       "| 50868      | 2021-01-17 |  6.594722  | TRUE       |\n",
       "\n"
      ],
      "text/plain": [
       "  person_id time_of_measurement measured_download_speed_in_Mbps\n",
       "1 50868     2021-01-01          10.635198                      \n",
       "2 50868     2021-01-19           0.000000                      \n",
       "3 50868     2021-01-02           0.000000                      \n",
       "4 50868     2021-01-02           0.000000                      \n",
       "5 50868     2021-01-06          15.634309                      \n",
       "6 50868     2021-01-17           6.594722                      \n",
       "  did_test_complete_successfully\n",
       "1 TRUE                          \n",
       "2 TRUE                          \n",
       "3 TRUE                          \n",
       "4 TRUE                          \n",
       "5 TRUE                          \n",
       "6 TRUE                          "
      ]
     },
     "metadata": {},
     "output_type": "display_data"
    }
   ],
   "source": [
    "head(Dspeed_measure)"
   ]
  },
  {
   "cell_type": "code",
   "execution_count": 5,
   "id": "15c756bd",
   "metadata": {},
   "outputs": [],
   "source": [
    "\n",
    "replace <- as.character(Uspeed_measure$time_of_measurement)\n",
    "replace <- sub(\"T.*\", \"\", replace)\n",
    "Uspeed_measure[,\"time_of_measurement\"] <- replace\n",
    "Uspeed_measure <- setDT(Uspeed_measure)[time_of_measurement %between% c('2021-01-01', '2021-01-31')]"
   ]
  },
  {
   "cell_type": "code",
   "execution_count": 11,
   "id": "41bee48c",
   "metadata": {},
   "outputs": [
    {
     "data": {
      "text/html": [
       "<table>\n",
       "<thead><tr><th scope=col>person_id</th><th scope=col>time_of_measurement</th><th scope=col>measured_upload_speed_in_Mbps</th><th scope=col>did_test_complete_successfully</th></tr></thead>\n",
       "<tbody>\n",
       "\t<tr><td>50868     </td><td>2021-01-06</td><td>0.7703398 </td><td>TRUE      </td></tr>\n",
       "\t<tr><td>50868     </td><td>2021-01-18</td><td>0.4549614 </td><td>TRUE      </td></tr>\n",
       "\t<tr><td>50868     </td><td>2021-01-21</td><td>0.8439032 </td><td>TRUE      </td></tr>\n",
       "\t<tr><td>50868     </td><td>2021-01-23</td><td>0.8108615 </td><td>TRUE      </td></tr>\n",
       "\t<tr><td>50868     </td><td>2021-01-25</td><td>0.9719853 </td><td>TRUE      </td></tr>\n",
       "\t<tr><td>50868     </td><td>2021-01-28</td><td>0.0000000 </td><td>TRUE      </td></tr>\n",
       "</tbody>\n",
       "</table>\n"
      ],
      "text/latex": [
       "\\begin{tabular}{r|llll}\n",
       " person\\_id & time\\_of\\_measurement & measured\\_upload\\_speed\\_in\\_Mbps & did\\_test\\_complete\\_successfully\\\\\n",
       "\\hline\n",
       "\t 50868      & 2021-01-06 & 0.7703398  & TRUE      \\\\\n",
       "\t 50868      & 2021-01-18 & 0.4549614  & TRUE      \\\\\n",
       "\t 50868      & 2021-01-21 & 0.8439032  & TRUE      \\\\\n",
       "\t 50868      & 2021-01-23 & 0.8108615  & TRUE      \\\\\n",
       "\t 50868      & 2021-01-25 & 0.9719853  & TRUE      \\\\\n",
       "\t 50868      & 2021-01-28 & 0.0000000  & TRUE      \\\\\n",
       "\\end{tabular}\n"
      ],
      "text/markdown": [
       "\n",
       "| person_id | time_of_measurement | measured_upload_speed_in_Mbps | did_test_complete_successfully |\n",
       "|---|---|---|---|\n",
       "| 50868      | 2021-01-06 | 0.7703398  | TRUE       |\n",
       "| 50868      | 2021-01-18 | 0.4549614  | TRUE       |\n",
       "| 50868      | 2021-01-21 | 0.8439032  | TRUE       |\n",
       "| 50868      | 2021-01-23 | 0.8108615  | TRUE       |\n",
       "| 50868      | 2021-01-25 | 0.9719853  | TRUE       |\n",
       "| 50868      | 2021-01-28 | 0.0000000  | TRUE       |\n",
       "\n"
      ],
      "text/plain": [
       "  person_id time_of_measurement measured_upload_speed_in_Mbps\n",
       "1 50868     2021-01-06          0.7703398                    \n",
       "2 50868     2021-01-18          0.4549614                    \n",
       "3 50868     2021-01-21          0.8439032                    \n",
       "4 50868     2021-01-23          0.8108615                    \n",
       "5 50868     2021-01-25          0.9719853                    \n",
       "6 50868     2021-01-28          0.0000000                    \n",
       "  did_test_complete_successfully\n",
       "1 TRUE                          \n",
       "2 TRUE                          \n",
       "3 TRUE                          \n",
       "4 TRUE                          \n",
       "5 TRUE                          \n",
       "6 TRUE                          "
      ]
     },
     "metadata": {},
     "output_type": "display_data"
    }
   ],
   "source": [
    "head(Uspeed_measure)"
   ]
  },
  {
   "cell_type": "code",
   "execution_count": 12,
   "id": "f05ef79a",
   "metadata": {},
   "outputs": [],
   "source": [
    "\n",
    "#has 1 line per person (i.e. calculate a single average download and upload speed for each person)\n",
    "Dspeed_measure <- Dspeed_measure[,mean(measured_download_speed_in_Mbps), by = person_id]\n",
    "Uspeed_measure <- Uspeed_measure[,mean(measured_upload_speed_in_Mbps), by = person_id]"
   ]
  },
  {
   "cell_type": "code",
   "execution_count": 13,
   "id": "38d3269b",
   "metadata": {},
   "outputs": [],
   "source": [
    "\n",
    "#joining tables\n",
    "\n",
    "New_person_detail <- merge(x = person_details, y = Dspeed_measure, by = \"person_id\", all.x = TRUE)\n",
    "colnames(New_person_detail)[5] <- \"average_download_speed\"\n",
    "\n",
    "New_person_detail <- merge(x = New_person_detail, y = Uspeed_measure, by = \"person_id\", all.x = TRUE)\n",
    "colnames(New_person_detail)[6] <- \"average_upload_speed\""
   ]
  },
  {
   "cell_type": "code",
   "execution_count": 14,
   "id": "e787cb28",
   "metadata": {},
   "outputs": [],
   "source": [
    "#only contains people in the cities 'Samsville' and 'Databury'\n",
    "New_person_detail <- New_person_detail[New_person_detail$city %in% c(\"Databury\",\"Samsville\"),]"
   ]
  },
  {
   "cell_type": "code",
   "execution_count": 16,
   "id": "bd15b491",
   "metadata": {},
   "outputs": [
    {
     "data": {
      "text/html": [
       "<table>\n",
       "<thead><tr><th scope=col>person_id</th><th scope=col>city</th><th scope=col>type_of_broadband_connection</th><th scope=col>name_of_isp</th><th scope=col>average_download_speed</th><th scope=col>average_upload_speed</th></tr></thead>\n",
       "<tbody>\n",
       "\t<tr><td>11218       </td><td>Databury    </td><td>VDSL        </td><td>Fibrelicious</td><td> 19.420619  </td><td> 5.1446965  </td></tr>\n",
       "\t<tr><td>11560       </td><td>Samsville   </td><td>ADSL        </td><td>Useus       </td><td>194.959863  </td><td>78.1698964  </td></tr>\n",
       "\t<tr><td>11677       </td><td>Samsville   </td><td>ADSL        </td><td>Fibrelicious</td><td>  8.955024  </td><td> 0.5259603  </td></tr>\n",
       "\t<tr><td>12309       </td><td>Samsville   </td><td>Fibre       </td><td>Useus       </td><td>  8.962087  </td><td> 0.5509977  </td></tr>\n",
       "\t<tr><td>12312       </td><td>Databury    </td><td>VDSL        </td><td>Useus       </td><td> 17.177268  </td><td> 4.4410936  </td></tr>\n",
       "\t<tr><td>13623       </td><td>Samsville   </td><td>ADSL        </td><td>Fibrelicious</td><td>  8.884879  </td><td> 0.5471097  </td></tr>\n",
       "</tbody>\n",
       "</table>\n"
      ],
      "text/latex": [
       "\\begin{tabular}{r|llllll}\n",
       " person\\_id & city & type\\_of\\_broadband\\_connection & name\\_of\\_isp & average\\_download\\_speed & average\\_upload\\_speed\\\\\n",
       "\\hline\n",
       "\t 11218        & Databury     & VDSL         & Fibrelicious &  19.420619   &  5.1446965  \\\\\n",
       "\t 11560        & Samsville    & ADSL         & Useus        & 194.959863   & 78.1698964  \\\\\n",
       "\t 11677        & Samsville    & ADSL         & Fibrelicious &   8.955024   &  0.5259603  \\\\\n",
       "\t 12309        & Samsville    & Fibre        & Useus        &   8.962087   &  0.5509977  \\\\\n",
       "\t 12312        & Databury     & VDSL         & Useus        &  17.177268   &  4.4410936  \\\\\n",
       "\t 13623        & Samsville    & ADSL         & Fibrelicious &   8.884879   &  0.5471097  \\\\\n",
       "\\end{tabular}\n"
      ],
      "text/markdown": [
       "\n",
       "| person_id | city | type_of_broadband_connection | name_of_isp | average_download_speed | average_upload_speed |\n",
       "|---|---|---|---|---|---|\n",
       "| 11218        | Databury     | VDSL         | Fibrelicious |  19.420619   |  5.1446965   |\n",
       "| 11560        | Samsville    | ADSL         | Useus        | 194.959863   | 78.1698964   |\n",
       "| 11677        | Samsville    | ADSL         | Fibrelicious |   8.955024   |  0.5259603   |\n",
       "| 12309        | Samsville    | Fibre        | Useus        |   8.962087   |  0.5509977   |\n",
       "| 12312        | Databury     | VDSL         | Useus        |  17.177268   |  4.4410936   |\n",
       "| 13623        | Samsville    | ADSL         | Fibrelicious |   8.884879   |  0.5471097   |\n",
       "\n"
      ],
      "text/plain": [
       "  person_id city      type_of_broadband_connection name_of_isp \n",
       "1 11218     Databury  VDSL                         Fibrelicious\n",
       "2 11560     Samsville ADSL                         Useus       \n",
       "3 11677     Samsville ADSL                         Fibrelicious\n",
       "4 12309     Samsville Fibre                        Useus       \n",
       "5 12312     Databury  VDSL                         Useus       \n",
       "6 13623     Samsville ADSL                         Fibrelicious\n",
       "  average_download_speed average_upload_speed\n",
       "1  19.420619              5.1446965          \n",
       "2 194.959863             78.1698964          \n",
       "3   8.955024              0.5259603          \n",
       "4   8.962087              0.5509977          \n",
       "5  17.177268              4.4410936          \n",
       "6   8.884879              0.5471097          "
      ]
     },
     "metadata": {},
     "output_type": "display_data"
    }
   ],
   "source": [
    "head(New_person_detail)"
   ]
  },
  {
   "cell_type": "code",
   "execution_count": null,
   "id": "c7841146",
   "metadata": {},
   "outputs": [],
   "source": []
  }
 ],
 "metadata": {
  "kernelspec": {
   "display_name": "R",
   "language": "R",
   "name": "ir"
  },
  "language_info": {
   "codemirror_mode": "r",
   "file_extension": ".r",
   "mimetype": "text/x-r-source",
   "name": "R",
   "pygments_lexer": "r",
   "version": "3.6.1"
  }
 },
 "nbformat": 4,
 "nbformat_minor": 5
}
